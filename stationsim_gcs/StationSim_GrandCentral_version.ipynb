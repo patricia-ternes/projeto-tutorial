{
 "cells": [
  {
   "cell_type": "markdown",
   "metadata": {},
   "source": [
    "# StationSim - Grand Central Station version\n",
    "    author: P. Ternes"
   ]
  },
  {
   "cell_type": "markdown",
   "metadata": {},
   "source": [
    "In this text we track changes made in the StationSim model to emulate the data from the Grand Central Station."
   ]
  },
  {
   "cell_type": "markdown",
   "metadata": {},
   "source": [
    "## Manly changes\n",
    "\n",
    "* Create gates in all sides;\n",
    "* Create a forbidden region in the center of the station to represent the clock;\n",
    "* Designate all gates as possible entry and exit points;\n",
    "* Change the way the model identifies a collision;\n",
    "* Change the way the the agents perform a wiggle."
   ]
  },
  {
   "cell_type": "markdown",
   "metadata": {},
   "source": [
    "## Grand Central Station\n",
    "\n",
    "You can access the Grand Station data here:\n",
    "http://www.ee.cuhk.edu.hk/~xgwang/grandcentral.html\n",
    "\n",
    "The main concourse of the station has a rectangular shape and has gates on all sides. We are considerate one gate on the South Side, two gates on the West Side, five gates on the North Side, and two gates on the East Side. The station also has a clock in the center of the main concourse. A schematic view of the station can be seen in the figure below. The gray region in the figure represent the simulated region.\n",
    "\n",
    "<img src=\"figs/station1.png\" width=\"300\">\n",
    "\n",
    "\n",
    "To define the size of the station, the location of the gates and the location and size of the clock, it is necessary to perform a calibration with real data."
   ]
  },
  {
   "cell_type": "markdown",
   "metadata": {},
   "source": [
    "## Create Grand Central Station in the StationSim model\n",
    "To create a station with the structure of the Grand Central station is necesary to pass to the model a parameter with the key 'station' and the value 'Grand_Central'. E.g. like this:"
   ]
  },
  {
   "cell_type": "code",
   "execution_count": null,
   "metadata": {},
   "outputs": [],
   "source": [
    "model_params = {'station': 'Grand_Central'}"
   ]
  },
  {
   "cell_type": "markdown",
   "metadata": {},
   "source": [
    "If the 'Grand_Central' parameter is passed to the model, the parameters 'width', 'height', 'gates_in' and 'gates_out' will be determined within the set_station method. If any of these parameters are passed to the model, they are just ignored.\n",
    "\n",
    "The <b>set_station</b> method is:"
   ]
  },
  {
   "cell_type": "code",
   "execution_count": null,
   "metadata": {},
   "outputs": [],
   "source": [
    "    def set_station(self):\n",
    "        if(self.station == 'Grand_Central'):\n",
    "            self.width = 200\n",
    "            self.height = 400\n",
    "            self.gates_locations =\\\n",
    "                np.array([[0, self.height/2],  # south side\n",
    "                          [20, self.height], [170, self.height],  # west side\n",
    "                          [20, 0], [170, 0],  # east side\n",
    "                          [self.width, 60], [self.width, 125],  # north side\n",
    "                          [self.width, 200], [self.width, 275],  # north side\n",
    "                          [self.width, 340]])  # north side\n",
    "            self.gates_in = len(self.gates_locations)\n",
    "            self.gates_out = len(self.gates_locations)\n",
    "            self.clock = Agent(self, self.pop_total)\n",
    "            self.clock.size = 10.0\n",
    "            self.clock.location = [self.width/2.0, self.height/2.0]\n",
    "            self.clock.speed = 0.0\n",
    "        else:\n",
    "            self.gates_locations = np.concatenate([\n",
    "                Model._gates_init(0, self.height, self.gates_in),\n",
    "                Model._gates_init(self.width, self.height, self.gates_out)])\n",
    "            # create a clock outside the station.\n",
    "            self.clock = Agent(self, self.pop_total)\n",
    "            self.clock.speed = 0.0\n",
    "\n",
    "            if(self.station is not None):\n",
    "                warnings.warn(\n",
    "                    \"The station parameter passed to the model is not valid; \"\n",
    "                    \"Using the default station.\",\n",
    "                    RuntimeWarning\n",
    "                )"
   ]
  },
  {
   "cell_type": "markdown",
   "metadata": {},
   "source": [
    "Note that if a different station name is passed, than the classical structure of the StationSim model is used. This means that only gates at left side are used as entrace points and gates at right side are used as exit points.\n",
    "\n",
    "To ensure that the code is executed, regardless of the structure of the chosen station, a condition is used to determine the exit gate."
   ]
  },
  {
   "cell_type": "code",
   "execution_count": null,
   "metadata": {},
   "outputs": [],
   "source": [
    "        self.gate_in = np.random.randint(model.gates_in)\n",
    "        gate_out = np.random.randint(model.gates_out) + model.gates_in\n",
    "        while (gate_out == self.gate_in or\n",
    "               gate_out >= len(model.gates_locations)):\n",
    "            gate_out = np.random.randint(model.gates_out)\n",
    "        self.loc_desire = self.set_agent_location(model, gate_out)"
   ]
  },
  {
   "cell_type": "markdown",
   "metadata": {},
   "source": [
    "## Agent initial and final position\n",
    "Each agent, when created, needs to receive a start position and a desired end position. These positions are based on the position of the entry and exit gates defined for that agent. To simulate the width of the gates a perturbartion is added to each selected position. In addition, it is necessary to ensure that the agents have positions that are a little more than a body away from the station walls.\n",
    "\n",
    "The <b>set_agent_location</b> method returns a position based on the mentioned criteria."
   ]
  },
  {
   "cell_type": "code",
   "execution_count": null,
   "metadata": {},
   "outputs": [],
   "source": [
    "    def set_agent_location(self, model, gate):\n",
    "        '''\n",
    "            Define one final or initial position for the agent.\n",
    "\n",
    "            It is necessary to ensure that the agent has a distance from\n",
    "            the station wall compatible with its own size.\n",
    "        '''\n",
    "        perturb = model.gates_space * np.random.uniform(-10, +10)\n",
    "        if(model.gates_locations[gate][0] == 0):\n",
    "            return model.gates_locations[gate] + [1.05*self.size, perturb]\n",
    "        elif(model.gates_locations[gate][0] == model.width):\n",
    "            return model.gates_locations[gate] + [-1.05*self.size, perturb]\n",
    "        elif(model.gates_locations[gate][1] == 0):\n",
    "            return model.gates_locations[gate] + [perturb, 1.05*self.size]\n",
    "        else:\n",
    "            return model.gates_locations[gate] + [perturb, -1.05*self.size]"
   ]
  },
  {
   "cell_type": "markdown",
   "metadata": {},
   "source": [
    "The initial position also needs an aditional criterion. This position must be different from the current position of any other active agent. This condition is necessary due to the new definition of collision. If two agents are in the same position, then the new collision definition will cause the dynamics in the system to stop.\n",
    "\n",
    "The <b>activate</b> method creats correctly a initial position. Note that after 10 attempts to create a starting position, if it is impossible to designate a unique position to the agent, than, the agent will be activated only in the next step."
   ]
  },
  {
   "cell_type": "code",
   "execution_count": null,
   "metadata": {},
   "outputs": [],
   "source": [
    "    def activate(self, model):\n",
    "        '''\n",
    "        Test whether an agent should become active.\n",
    "        This happens when the model time is greater than the agent's\n",
    "        activate time.\n",
    "\n",
    "        It is necessary to ensure that the agent has an initial position\n",
    "        different from the position of all active agents. If it was not\n",
    "        possible, activate the agent on next time step.\n",
    "        '''\n",
    "        if self.status == 0:\n",
    "            if model.total_time > self.steps_activate:\n",
    "                state = model.get_state('location2D')\n",
    "                model.tree = cKDTree(state)\n",
    "                for _ in range(10):\n",
    "                    new_location = self.set_agent_location(model, self.gate_in)\n",
    "                    neighbouring_agents = model.tree.query_ball_point(\n",
    "                        new_location, self.size*1.1)\n",
    "                    if (neighbouring_agents == [] or\n",
    "                            neighbouring_agents == [self.unique_id]):\n",
    "                        self.location = new_location\n",
    "                        self.status = 1\n",
    "                        model.pop_active += 1\n",
    "                        self.step_start = model.total_time  # model.step_id\n",
    "                        self.loc_start = self.location\n",
    "                        break"
   ]
  },
  {
   "cell_type": "markdown",
   "metadata": {},
   "source": [
    "## New colision definition\n",
    "\n",
    "In the default version of the StationSim model, the movement of the agents occurs mainly in the horizontal direction, from left to right side. This movement limitation allows the use of a simplified collision definition.\n",
    "\n",
    "By creating gates on all sides of the station and allowing them to be points of entry and exit, we make it possible for agents to have the most varied directions of movement. Thus, a more robust definition of collision is necessary.\n",
    "\n",
    "The new definition of colision is obtained through the equation of motion of each agent. Before a colision, the movemment is linear, and can be described by:\n",
    "$$\\vec{r}_i' = \\vec{r}_i + \\vec{v}_i\\Delta t ,$$\n",
    "where $\\vec{r}_i = (x_i, y_i)$ is the position of agent $i$ at time $t$, $\\vec{r}_i'= (x_i', y_i')$ is the position of agent i at time $t'$, $\\vec{v}_i=(v_{xi}, v_{yi})$ is the agent velocity, and $\\Delta t = t'-t$ is the time variation."
   ]
  },
  {
   "cell_type": "markdown",
   "metadata": {},
   "source": [
    "### Collision between two agents\n",
    "\n",
    "The next figure illustrate the colision between two agents.\n",
    "\n",
    "<img src=\"figs/collision_scheme.png\" width=\"600\">\n",
    "\n",
    "Note that, when an agent $i$ collide with another agent $j$, the distance between the center of the agents is $\\sigma = \\sigma_i + \\sigma_j$, where $\\sigma_i$ and $\\sigma_j$ are related with the agents width. \n",
    "It is possible to obtain the distance between two agents $i$ and $j$ using their positions:\n",
    "$$ \\Delta r'^{2} = (x_j' - x_i')^2 + (y_j' - y_i')^2 ,$$\n",
    "therefore, in a collision we have $\\Delta r'^2 = \\sigma^2$. Putting all the equations together and solving the quadratic equation, it is possible to find the time variation between the beginning of the movement and the collision.\n",
    "\n",
    "$$\\Delta t = \\left\\{ \\begin{array}{lcl}\n",
    "\\infty & \\mbox{if} & \\Delta\\vec{v}\\cdot\\Delta\\vec{r}\\ge0, \\\\ \n",
    "\\infty & \\mbox{if} & d < 0, \\\\\n",
    "\\dfrac{-\\Delta\\vec{v}\\cdot\\Delta\\vec{r}-\\sqrt{d}}{\\Delta\\vec{v}\\cdot\\Delta\\vec{v}} & \\mbox{if} & \\mbox{otherwise,}\n",
    "\\end{array}\\right.$$\n",
    "\n",
    "where\n",
    "$$\\begin{array}{l}\n",
    "d = (\\Delta\\vec{v}\\cdot\\Delta\\vec{r})^2 - (\\Delta\\vec{v}\\cdot\\Delta\\vec{v})(\\Delta\\vec{r}\\cdot\\Delta\\vec{r} - \\sigma^2),\\\\ \n",
    "\\Delta\\vec{v} = \\vec{v}_j - \\vec{v}_i = (v_{xj}-v_{xi}, v_{yj}-v_{yi}),\\\\\n",
    "\\Delta\\vec{r} = \\vec{r}_j - \\vec{r}_i = (r_{xj}-r_{xi}, r_{yj}-r{yi}).\\\\\n",
    "\\end{array}$$\n",
    "\n",
    "When $\\Delta\\vec{v}\\cdot\\Delta\\vec{r}\\ge 0 $ or $d < 0$, the agents do not  collide, even though the distance between them is $\\sigma$. This situation can occur if their movemment are parrallel or in opposite directions.\n",
    "\n",
    "The <b>get_collisionTime2Agents</b> method return the collision time between two agents.\n"
   ]
  },
  {
   "cell_type": "code",
   "execution_count": null,
   "metadata": {},
   "outputs": [],
   "source": [
    "    def get_collisionTime2Agents(self, agentB):\n",
    "        '''\n",
    "        Returns the collision time between two agents.\n",
    "        '''\n",
    "        tmin = 1.0e300\n",
    "\n",
    "        rAB = self.location - agentB.location\n",
    "        directionA = self.get_direction(self.loc_desire, self.location)\n",
    "        directionB = agentB.get_direction(agentB.loc_desire, agentB.location)\n",
    "        sizeAB = self.size + agentB.size\n",
    "\n",
    "        vA = self.speed\n",
    "        vB = agentB.speed\n",
    "        vAB = vA*directionA - vB*directionB\n",
    "        bAB = np.dot(vAB, rAB)\n",
    "        if bAB < 0.0:\n",
    "            delta = bAB**2 - (np.dot(vAB, vAB)*(np.dot(rAB, rAB) - sizeAB**2))\n",
    "            if (delta > 0.0):\n",
    "                collisionTime = abs((-bAB - np.sqrt(delta)) / np.dot(vAB, vAB))\n",
    "                tmin = collisionTime\n",
    "\n",
    "        return tmin"
   ]
  },
  {
   "cell_type": "markdown",
   "metadata": {},
   "source": [
    "### Collision between an agent and a wall\n",
    "\n",
    "In addition to colliding with another agent, an agent can also collide with a wall.\n",
    "The next figure illustrate the colision between an agent and a wall.\n",
    "\n",
    "<img src=\"figs/collision-wall.png\" width=\"350\">\n",
    "\n",
    "Note that, when an agent $i$ collide with a wall, the distance between the center of the agent and the wall is $\\sigma_i$, where $\\sigma_i$ is related with the agent width. Considering that the station has a retangular shape, the agent can collide with four different walls. The equations to determine the colision time for each possible wall are:\n",
    "$$\\begin{array}{c@{}c@{}c@{}}\n",
    "\\mbox{Vertical wall} & \\hspace{50pt} & \\mbox{Horizontal wall} \\\\\n",
    "\\Delta t = \\left\\{ \\begin{array}{lcl}\n",
    "    (\\sigma_i -  x_i)/v_{xi} & \\mbox{if} & v_{xi} < 0; \\\\ \n",
    "(w - \\sigma_i -  x_i)/v_{xi} & \\mbox{if} & v_{xi} > 0; \\\\                            \n",
    "\\infty & \\mbox{if} & v_{xi} = 0;\n",
    "\\end{array}\\right. & ~ & \\Delta t = \\left\\{ \\begin{array}{lcl}\n",
    "    (\\sigma_i -  y_i)/v_{yi} & \\mbox{if} & v_{yi} < 0; \\\\ \n",
    "(h - \\sigma_i -  y_i)/v_{yi} & \\mbox{if} & v_{yi} > 0; \\\\                            \n",
    "\\infty & \\mbox{if} & v_{yi} = 0;\n",
    "\\end{array}\\right.\n",
    "\\end{array}$$\n",
    "where, $w$ is the station width and $h$ is the station heigh.\n",
    "\n",
    "The minor collision time between an agent and a wall is determined by the <b>get_collisionTimeWall</b> method."
   ]
  },
  {
   "cell_type": "code",
   "execution_count": null,
   "metadata": {},
   "outputs": [],
   "source": [
    "    def get_collisionTimeWall(self, model):\n",
    "        '''\n",
    "        Returns the shortest collision time between an agent and a wall.\n",
    "        '''\n",
    "        tmin = 1.0e300\n",
    "        collisionTime = 1.0e300\n",
    "\n",
    "        direction = self.get_direction(self.loc_desire, self.location)\n",
    "        vx = self.speed*direction[0]  # horizontal velocity\n",
    "        vy = self.speed*direction[1]  # vertical velocity\n",
    "\n",
    "        if(vy > 0):  # collision in botton wall\n",
    "            collisionTime = (model.height - self.size - self.location[1]) / vy\n",
    "        elif (vy < 0):  # collision in top wall\n",
    "            collisionTime = (self.size - self.location[1]) / vy\n",
    "        if (collisionTime < tmin):\n",
    "            tmin = collisionTime\n",
    "        if(vx > 0):  # collision in right wall\n",
    "            collisionTime = (model.width - self.size - self.location[0]) / vx\n",
    "        elif (vx < 0):  # collision in left wall\n",
    "            collisionTime = (self.size - self.location[0]) / vx\n",
    "        if (collisionTime < tmin):\n",
    "            tmin = collisionTime\n",
    "\n",
    "        return tmin"
   ]
  },
  {
   "cell_type": "markdown",
   "metadata": {},
   "source": [
    "### Velocity variation before wiggle\n",
    "\n",
    "In the default version of the StationSim model when a collision was identified, before wiggle, the agent's velocity was decreased to try avoid the collision.\n",
    "\n",
    "Unfortunately, by changing the collision definition, this feature was lost."
   ]
  },
  {
   "cell_type": "markdown",
   "metadata": {},
   "source": [
    "## Step implementation\n",
    "\n",
    "In this new version of StationSim, we check if a collision occurs before moving agents. At the beginning of each model step, a table is created containing the time collision for each possible collision, including collisions with the wall, with other active agents and with the station clock.\n",
    "\n",
    "Using the collision table, the shortest collision time is selected. The <b>get_collisionTable</b> method is:"
   ]
  },
  {
   "cell_type": "code",
   "execution_count": null,
   "metadata": {},
   "outputs": [],
   "source": [
    "    def get_collisionTable(self):\n",
    "        '''\n",
    "        Returns the time of next colision (tmin) and a table with \n",
    "        information about every possible colision:\n",
    "        - collisionTable[0]: collision time\n",
    "        - collisionTable[1]: agent agent.unique_id\n",
    "        '''\n",
    "        collisionTable = []\n",
    "        for i in range(self.pop_total):\n",
    "            if (self.agents[i].status == 1):\n",
    "                collisionTime = self.agents[i].get_collisionTimeWall(self)\n",
    "                collision = (collisionTime, i)\n",
    "                collisionTable.append(collision)\n",
    "\n",
    "                collisionTime =\\\n",
    "                    self.agents[i].get_collisionTime2Agents(self.clock)\n",
    "                collision = (collisionTime, i)\n",
    "                collisionTable.append(collision)\n",
    "\n",
    "                for j in range(i+1, self.pop_total):\n",
    "                    if (self.agents[j].status == 1):\n",
    "                        collisionTime = self.agents[i].\\\n",
    "                            get_collisionTime2Agents(self.agents[j])\n",
    "                        collision = (collisionTime, i)\n",
    "                        collisionTable.append(collision)\n",
    "                        collision = (collisionTime, j)\n",
    "                        collisionTable.append(collision)\n",
    "\n",
    "        try:\n",
    "            tmin = min(collisionTable)\n",
    "            tmin = tmin[0]\n",
    "        except:\n",
    "            tmin = 1.0e300\n",
    "\n",
    "        return collisionTable, tmin"
   ]
  },
  {
   "cell_type": "markdown",
   "metadata": {},
   "source": [
    "Therefore, after call the <b>get_collisionTable</b> method we have the information about when the next collision will occur. If the next collision occurs in a time greater than 1, all the active agent will be moved in a straight line for 1 step. \n",
    "\n",
    "If the next collision occurs in a time lower than 1, all active agents will be moved in a straight line by a time equal to the next collision time. It is important to remember that this is a multibody problem, so it is possible to have simultaneous collisions. To track all possible collisions, a wiggle table is created with all colisions that occur at the same current collision time (inside a tolerance interval time). The <b>get_wiggleTable</b> is:"
   ]
  },
  {
   "cell_type": "code",
   "execution_count": null,
   "metadata": {},
   "outputs": [],
   "source": [
    "    def get_wiggleTable(self, collisionTable, time):\n",
    "        '''\n",
    "        Returns a table with the agent.unique_id of all agents that\n",
    "        collide in the specified time. A tolerance time is used to\n",
    "        capture almost simultaneous collisions.\n",
    "\n",
    "        Each line in the collisionTable has 2 columns:\n",
    "        - Column 0: collision time\n",
    "        - Column 1: agent.unique_id\n",
    "        '''\n",
    "        return set([line[1] for line in collisionTable\n",
    "                    if (abs(line[0] - time) < self.tolerance)])"
   ]
  },
  {
   "cell_type": "markdown",
   "metadata": {},
   "source": [
    "All agents in the wiggle table will be passed to <b>set_wiggle</b> method where the agents that are colliding were moved on a normal direction. It is very important to ensure that after wiggle the agent is not above any other agent. If after 10 attempts to move the agent it was impossible to find a new location without another agent, the agent just remain stopped. The <b>set_wiggle</b> method is:"
   ]
  },
  {
   "cell_type": "code",
   "execution_count": null,
   "metadata": {},
   "outputs": [],
   "source": [
    "    def set_wiggle(self, model):\n",
    "        '''\n",
    "        Determine a new position for an agent that collided with another\n",
    "        agent, or with some element of the station.\n",
    "        The new position simulates a lateral step. The side on which the\n",
    "        agent will take the step is chosen at random, as well as the\n",
    "        amplitude of the step.\n",
    "\n",
    "        Description:\n",
    "        - Determine a new position and check if it is a unique position.\n",
    "        - If it is unique, then the agent receives this position.\n",
    "        - Otherwise, a new position will be determined.\n",
    "        - This process has a limit of 10 attempts. If it is not possible\n",
    "        to determine a new unique position, the agent just stay stopped.\n",
    "        '''\n",
    "        direction = self.get_direction(self.loc_desire, self.location)\n",
    "\n",
    "        state = model.get_state('location2D')\n",
    "        model.tree = cKDTree(state)\n",
    "        for _ in range(10):\n",
    "            normal_direction = self.get_normal_direction(direction)\n",
    "            new_location = self.location +\\\n",
    "                normal_direction *\\\n",
    "                np.random.normal(self.size, self.size/2.0)\n",
    "\n",
    "            # Rebound\n",
    "            if not model.is_within_bounds(self, new_location):\n",
    "                new_location = model.re_bound(self, new_location)\n",
    "\n",
    "            # collision_map\n",
    "            if model.do_history:\n",
    "                self.history_collisions += 1\n",
    "                model.history_collision_locs.append(new_location)\n",
    "                model.history_collision_times.append(model.total_time)\n",
    "\n",
    "            # Check if the new location is possible\n",
    "            neighbouring_agents = model.tree.query_ball_point(new_location,\n",
    "                                                              self.size*1.1)\n",
    "            dist = self.distance(new_location, model.clock.location)\n",
    "            if ((neighbouring_agents == [] or\n",
    "                    neighbouring_agents == [self.unique_id]) and\n",
    "                    (dist > (self.size + model.clock.size))):\n",
    "                self.location = new_location\n",
    "\n",
    "                # wiggle_map\n",
    "                if model.do_history:\n",
    "                    self.history_wiggles += 1\n",
    "                    model.history_wiggle_locs.append(new_location)\n",
    "                break"
   ]
  },
  {
   "cell_type": "markdown",
   "metadata": {},
   "source": [
    "## Deleted code\n",
    "\n",
    "As the defition of colision changed, some parts of the code were completely changed or deleted. Here is a summary of the main changes made:\n",
    "\n",
    "* Agent.move: this method was completely replaced for a new Agent.move method;\n",
    "* Agent.collision: deleted;\n",
    "* Agent.neighbourhood: deleted;\n",
    "* Agent.wiggle and model.max_wiggle parameters: deleted. The new wiggle is related with the agent size to simulate a real human step."
   ]
  },
  {
   "cell_type": "markdown",
   "metadata": {},
   "source": [
    "## Preliminar results\n",
    "\n",
    "Both, classical and Grand Central versions, are working with the new collision definition. The basic experiments for this model can be found at [`gcs_experiments`](experiments/gcs_experiments/gcs_experiments.ipynb)."
   ]
  },
  {
   "cell_type": "markdown",
   "metadata": {},
   "source": [
    "## Grand Central station calibration\n",
    "\n",
    "The next step is to use the real data from the Grand Central station to calibrate some parameters. The main idea is to obtain general information from the real system so that the simulation parameters have values consistent with reality. The main parameters are:\n",
    "\n",
    "* Characteristics of GC station: station size, clock location and size, gates location;\n",
    "* Characteristics of agents: agent size, agent mean velocity;\n",
    "* Flow rate of agents through the gates to adjust the activation rate;\n"
   ]
  }
 ],
 "metadata": {
  "kernelspec": {
   "display_name": "Python 3",
   "language": "python",
   "name": "python3"
  },
  "language_info": {
   "codemirror_mode": {
    "name": "ipython",
    "version": 3
   },
   "file_extension": ".py",
   "mimetype": "text/x-python",
   "name": "python",
   "nbconvert_exporter": "python",
   "pygments_lexer": "ipython3",
   "version": "3.6.8"
  }
 },
 "nbformat": 4,
 "nbformat_minor": 4
}
